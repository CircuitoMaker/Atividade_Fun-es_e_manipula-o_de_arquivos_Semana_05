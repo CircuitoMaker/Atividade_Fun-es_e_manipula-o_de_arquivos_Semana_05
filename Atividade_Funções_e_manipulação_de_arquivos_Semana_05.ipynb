{
  "cells": [
    {
      "cell_type": "markdown",
      "metadata": {
        "id": "v8pFWwviib2C"
      },
      "source": [
        "![Growdev](https://www.growdev.com.br/assets/images/logo_growdev.png)"
      ]
    },
    {
      "cell_type": "markdown",
      "metadata": {
        "id": "6Tkl4_HxifXZ"
      },
      "source": [
        "![Formação Engenharia de Dados](https://d335luupugsy2.cloudfront.net/cms/files/524558/1707226566/$occu5m8t1op)"
      ]
    },
    {
      "cell_type": "markdown",
      "metadata": {
        "id": "ty7Bzyl1i9bN"
      },
      "source": [
        "Este material tem como objetivo incentivar a prática dos conteúdos estudados até o momento, e a pesquisa. Tenha em consideração que o exercício foi pensado para incentivar a prática dos conteúdos estudados até então, porém aprender a pesquisar faz parte do processo de aprendizagem.\n",
        "\n",
        "Fique tranquilo, faça os exercícios com calma, e boa prática!\n"
      ]
    },
    {
      "cell_type": "markdown",
      "metadata": {
        "id": "DU5-yCQwjx3V"
      },
      "source": [
        "#Orientações:\n",
        "\n",
        " - Faça uma copia deste arquivo\n",
        " - Após concluir os exercicios, suba seu exercicio para o GitHub e compartilhe o link no **google** Classroom\n"
      ]
    },
    {
      "cell_type": "markdown",
      "metadata": {
        "id": "EzT810tnlmfE"
      },
      "source": [
        "#Exercícios"
      ]
    },
    {
      "cell_type": "markdown",
      "metadata": {
        "id": "rDqBAimhSq_C"
      },
      "source": [
        "#Funções"
      ]
    },
    {
      "cell_type": "markdown",
      "metadata": {
        "id": "AkBqdNST8bCY"
      },
      "source": [
        "Escreva uma função chamada soma que recebe dois números como parâmetros e retorna a soma deles"
      ]
    },
    {
      "cell_type": "code",
      "execution_count": null,
      "metadata": {
        "id": "J427Pi2p8THC"
      },
      "outputs": [],
      "source": [
        "def soma(a = 0, b = 0):\n",
        "    return a + b\n",
        "\n",
        "print(soma(10,20))\n"
      ]
    },
    {
      "cell_type": "markdown",
      "metadata": {
        "id": "NAa3MBAM830W"
      },
      "source": [
        "Escreva uma função chamada verificar_paridade que recebe um número como parâmetro e retorna True se for par e False se for ímpar."
      ]
    },
    {
      "cell_type": "code",
      "execution_count": null,
      "metadata": {
        "id": "CRlV5NE82kpE"
      },
      "outputs": [],
      "source": [
        "def verificar_paridade(numero):\n",
        "    if numero % 2 == 0:\n",
        "        return True\n",
        "    else:\n",
        "        return False\n",
        "    \n",
        "print(verificar_paridade(14))\n",
        "\n"
      ]
    },
    {
      "cell_type": "markdown",
      "metadata": {
        "id": "S7Rh1p4N8_dp"
      },
      "source": [
        "Escreva uma função chamada verificar_palindromo que recebe uma string como parâmetro e retorna True se for um palíndromo (uma palavra que é igual se lida da esquerda para a direita e vice-versa) e False caso contrário."
      ]
    },
    {
      "cell_type": "code",
      "execution_count": null,
      "metadata": {
        "id": "jY3rGEWc9Gb5"
      },
      "outputs": [],
      "source": [
        "def verificar_palindromo(string):\n",
        "    return string == string[::-1]\n",
        "\n",
        "\n",
        "print(verificar_palindromo(\"arara\"))  #true\n"
      ]
    },
    {
      "cell_type": "markdown",
      "metadata": {
        "id": "suLU217H9G51"
      },
      "source": [
        "##Desafio listas e funções:"
      ]
    },
    {
      "cell_type": "markdown",
      "metadata": {
        "id": "zv3Edx_T-TF5"
      },
      "source": [
        "Crie uma função que representa o jogo batalha naval.\n",
        "\n",
        "Dentro da função crie uma estrutura bidimensional utilizando listas com sublistas para representar um tabuleiro (1 lista com 20 elementos e cada elemento é uma lista de 20 elementos, tabuleiro 20x20). Cada posição irá armazenar 1 valor numérico que significa:\n",
        "- 0 - Água\n",
        "- 1 - Navio\n",
        "\n",
        "Para cada posição escolha esses valores aleatoriamente, respeitando a regra de que não podem existir mais de 20 navios no tabuleiro.\n",
        "\n",
        "Após os valores serem distribuídos, o programa deve pedir ao usuário uma posição do tabuleiro e informar se ele acertou um navio ou água e repetir o procedimento até que o usuário derrote todos os navios ou chegue ao limite de 35 tentativas.\n",
        "\n"
      ]
    },
    {
      "cell_type": "code",
      "execution_count": null,
      "metadata": {
        "id": "BhHWwg54-H1j"
      },
      "outputs": [],
      "source": [
        "import random\n",
        "\n",
        "pontos = 0\n",
        "tentativas = 0\n",
        "erros = 0\n",
        "\n",
        "num_navios = 200 #50% de chances\n",
        "tamanho = 20\n",
        "tiros = 1\n",
        "\n",
        "\n",
        "def tabua():\n",
        "    matriz = []\n",
        "    for x in range(tamanho):\n",
        "        linha = []\n",
        "        for y in range(tamanho):\n",
        "            linha.append(0)\n",
        "        matriz.append(linha)\n",
        "  \n",
        "    return matriz\n",
        "\n",
        "\n",
        "\n",
        "# Funçã 20 navios  valor \"1\"\n",
        "def posicionar_navios(matriz):\n",
        "    navios_posicionados = 0\n",
        "\n",
        "    while navios_posicionados < num_navios:\n",
        "        linha = random.randint(0, 19) # tamanho \n",
        "        coluna = random.randint(0, 19) # tamanho\n",
        "        if matriz[linha][coluna] == 0:\n",
        "            matriz[linha][coluna] = 1\n",
        "            navios_posicionados += 1\n",
        "\n",
        "\n",
        "     \n",
        "# jogos\n",
        "def jogo():\n",
        "    global pontos, tentativas, erros\n",
        "    matriz = tabua()\n",
        "    posicionar_navios(matriz)\n",
        "\n",
        "    while tentativas < tiros:\n",
        "        display(matriz)\n",
        "        print(f\"Tentativa {tentativas + 1} de 20\")\n",
        "        linha = int(input(\"Informe a linha (0-19): \"))\n",
        "        coluna = int(input(\"Informe a coluna (0-19): \"))\n",
        "\n",
        "        linha = int(linha)\n",
        "        coluna = int(coluna)\n",
        "\n",
        "        if linha < 0 or linha > 19 or coluna < 0 or coluna > 19:\n",
        "            print(\"Posição fora do tamanho do tabuleiro!\")\n",
        "            continue\n",
        "\n",
        "        if matriz[linha][coluna] == 1:\n",
        "            print(\"Acertou um navio!\")\n",
        "            pontos += 1\n",
        "            matriz[linha][coluna] = -2  # o valor do navio acertado na matriz agora é -2\n",
        "            tentativas += 1\n",
        "        elif matriz[linha][coluna] == 0:\n",
        "            print(\"Água!\")\n",
        "            erros += 1\n",
        "            matriz[linha][coluna] = -1  # o valor da agua na posição agora é -1 \n",
        "            tentativas += 1\n",
        "        else:\n",
        "            print(\"Esta posição já foi tentada. Tente outra.\")\n",
        "\n",
        "    print(f\"Fim do jogo! Você acertou {pontos} navios, errou {erros} vezes, e usou {tentativas} tentativas.\")\n",
        "\n",
        "\n",
        "\n",
        "# Execução do jogo\n",
        "jogo()\n"
      ]
    },
    {
      "cell_type": "markdown",
      "metadata": {
        "id": "WUXJN6Dg_GET"
      },
      "source": [
        "Modifique o programa anterior para exibir as seguintes estatísticas.\n",
        "- Acertos em água\n",
        "- Acertos em Navios\n",
        "- Porcentagem de acertos em água\n",
        "- Porcentagem de acertos em Navios\n",
        "- Acertos ininterruptos (maior quantidade de acertos em sequência)"
      ]
    },
    {
      "cell_type": "code",
      "execution_count": 116,
      "metadata": {},
      "outputs": [
        {
          "name": "stdout",
          "output_type": "stream",
          "text": [
            "Acertou um navio!\n",
            "Acertou um navio!\n",
            "Água!\n",
            "Água!\n",
            "Acertou um navio!\n",
            "Água!\n",
            "Água!\n",
            "Acertos 3 navios, errou 4 vezes, e usou 7 tentativas.\n",
            "Acertos 42% - Agua 57% - Maxima sequencia de acertos 2\n"
          ]
        },
        {
          "ename": "SystemExit",
          "evalue": "",
          "output_type": "error",
          "traceback": [
            "An exception has occurred, use %tb to see the full traceback.\n",
            "\u001b[1;31mSystemExit\u001b[0m\n"
          ]
        }
      ],
      "source": [
        "# Este game utiliza interface grafica, para ele funcionar necessita instalar a lib PyGame\n",
        "# pip install pygame\n",
        "# e a pasta com os audios devem ser \"apontadas\" no caminho do arquivo \n",
        "# Tanto no backend como na interface grafica é exibido os  dados de acertos em agua, navios, com as devidas porcentagens e acertos initerruptos\n",
        "\n",
        "import random\n",
        "import pygame\n",
        "import sys\n",
        "\n",
        "\n",
        "# Variáveis globais\n",
        "pontos = 0\n",
        "tentativas = 0\n",
        "erros = 0\n",
        "num_navios = 200 # 50% de chances\n",
        "tamanho = 20\n",
        "tiros = 7\n",
        "\n",
        "consecutivos = [0] # inserido hoje 22/05/2024\n",
        "indice = 0\n",
        "\n",
        "# apontar o caminho ate a pasta \"Audios\"\n",
        "Audios = \"C:/Users/Legion 5i/Desktop/Audios/\"\n",
        "\n",
        "# Inicializa o Pygame\n",
        "pygame.init()\n",
        "\n",
        "# Inicializa o mixer de sons\n",
        "pygame.mixer.init()\n",
        "\n",
        "# Definições da janela\n",
        "largura = 600\n",
        "altura = 600\n",
        "tamanho_celula = 30  # Tamanho de cada célula do tabuleiro\n",
        "\n",
        "# Cores\n",
        "BRANCO = (255, 255, 255)\n",
        "AZUL = (0, 0, 255)\n",
        "PRETO = (0, 0, 0)\n",
        "VERDE = (0, 255, 0)\n",
        "VERMELHO = (255, 0, 0)\n",
        "\n",
        "# Cria a janela\n",
        "janela = pygame.display.set_mode((largura, altura))\n",
        "pygame.display.set_caption(\"GrowDev Batalha Naval\")\n",
        "pygame.mixer.music.load(f'{Audios}inicio.mp3')\n",
        "pygame.mixer.music.play()\n",
        "\n",
        "# Funções de lógica de jogo\n",
        "def tabua():\n",
        "    matriz = []\n",
        "    for x in range(tamanho):\n",
        "        linha = []\n",
        "        for y in range(tamanho):\n",
        "            linha.append(0)\n",
        "        matriz.append(linha)\n",
        "    return matriz\n",
        "\n",
        "def posicionar_navios(matriz):\n",
        "    navios_posicionados = 0\n",
        "    while navios_posicionados < num_navios:\n",
        "        linha = random.randint(0, tamanho-1)\n",
        "        coluna = random.randint(0, tamanho-1)\n",
        "        if matriz[linha][coluna] == 0:\n",
        "            matriz[linha][coluna] = 1\n",
        "            navios_posicionados += 1\n",
        "\n",
        "def display(matriz):\n",
        "    for linha in matriz:\n",
        "        print(\" \".join(str(x) for x in linha))\n",
        "\n",
        "# Inicializa a matriz do jogo\n",
        "matriz = tabua()\n",
        "posicionar_navios(matriz)\n",
        "\n",
        "# Matriz para rastrear as cores das células\n",
        "cores_celulas = [[PRETO for _ in range(tamanho)] for _ in range(tamanho)]\n",
        "\n",
        "def desenhar_tabuleiro():\n",
        "    for linha in range(tamanho):\n",
        "        for coluna in range(tamanho):\n",
        "            cor = cores_celulas[linha][coluna]\n",
        "            pygame.draw.rect(janela, BRANCO, (coluna * tamanho_celula, linha * tamanho_celula, tamanho_celula, tamanho_celula))\n",
        "            pygame.draw.rect(janela, cor, (coluna * tamanho_celula + 1, linha * tamanho_celula + 1, tamanho_celula - 2, tamanho_celula - 2))\n",
        "\n",
        "# Loop principal do jogo\n",
        "while True:\n",
        "    # Verifica se o usuário quer sair\n",
        "    for evento in pygame.event.get():\n",
        "        if evento.type == pygame.QUIT:\n",
        "            pygame.quit()\n",
        "            sys.exit()\n",
        "        # Verifica se houve um toque no mouse\n",
        "        elif evento.type == pygame.MOUSEBUTTONDOWN and tentativas < tiros:\n",
        "            pygame.mixer.music.load(f'{Audios}tiro.mp3')\n",
        "            pygame.mixer.music.play()\n",
        "            \n",
        "            # Obtém a posição do clique do mouse\n",
        "            pos_mouse = pygame.mouse.get_pos()\n",
        "            \n",
        "            # Calcula a linha e coluna correspondentes à célula clicada\n",
        "            linha = pos_mouse[1] // tamanho_celula\n",
        "            coluna = pos_mouse[0] // tamanho_celula\n",
        "            pygame.time.wait(800) # tempo para executar o som de tiro\n",
        "\n",
        "            if linha < 0 or linha >= tamanho or coluna < 0 or coluna >= tamanho:\n",
        "                print(\"Posição fora do tamanho do tabuleiro!\")\n",
        "                continue\n",
        "\n",
        "            if matriz[linha][coluna] == 1:\n",
        "                print(\"Acertou um navio!\")\n",
        "                pontos += 1\n",
        "                cores_celulas[linha][coluna] = VERMELHO\n",
        "                matriz[linha][coluna] = -2  # Marca como navio acertado\n",
        "                tentativas += 1\n",
        "                 \n",
        "                consecutivos[indice] += 1\n",
        "\n",
        "                # som de explosao\n",
        "                pygame.mixer.music.load(f'{Audios}explosao.mp3')\n",
        "                pygame.mixer.music.play()\n",
        "                pygame.time.wait(800) # tempo para executar o som de explosao\n",
        "\n",
        "            elif matriz[linha][coluna] == 0:\n",
        "                print(\"Água!\")\n",
        "                erros += 1\n",
        "                cores_celulas[linha][coluna] = AZUL\n",
        "                matriz[linha][coluna] = -1  # Marca como acerto na água\n",
        "                tentativas += 1\n",
        "              \n",
        "                indice += 1\n",
        "                consecutivos.append(0) \n",
        "\n",
        "                # som de agua\n",
        "                pygame.mixer.music.load(f'{Audios}agua.mp3')\n",
        "                pygame.mixer.music.play()\n",
        "            else:\n",
        "                print(\"Esta posição já foi tentada. Tente outra.\")\n",
        "\n",
        "    # Preenche a tela com a cor de fundo\n",
        "    janela.fill(PRETO)\n",
        "\n",
        "    # Desenha o tabuleiro\n",
        "    desenhar_tabuleiro()\n",
        "\n",
        "    # Atualiza a tela\n",
        "    pygame.display.flip()\n",
        "\n",
        "    # Verifica se o jogo acabou\n",
        "    if tentativas >= tiros:\n",
        "        pygame.time.wait(1000)\n",
        "        porcentagem_agua = int((erros / tentativas) * 100) \n",
        "        porcentagem_navios = int((pontos / tentativas) * 100) \n",
        "        \n",
        "        maior_valor = max(consecutivos) # add dia 22/05/24\n",
        "\n",
        "        if erros > pontos: # Perdeu\n",
        "            pygame.mixer.music.load(f'{Audios}risada.mp3')\n",
        "            pygame.mixer.music.play()\n",
        "            janela.fill(PRETO)\n",
        "            fonte = pygame.font.Font(None, 120)\n",
        "            texto_renderizado = fonte.render(\"GAME OVER\", True, BRANCO)\n",
        "            rect_texto = texto_renderizado.get_rect()\n",
        "            rect_texto.center = largura / 2, altura / 3\n",
        "            janela.blit(texto_renderizado, rect_texto)\n",
        "            \n",
        "            fonte = pygame.font.Font(None, 20)\n",
        "            texto_renderizado = fonte.render(f\"Acertou {pontos} navios ({porcentagem_navios}%), errou {erros} vezes ({porcentagem_agua}%), e usou {tentativas} tentativas. Sequencia {maior_valor}\", True, BRANCO)\n",
        "            rect_texto = texto_renderizado.get_rect()\n",
        "            rect_texto.center = largura / 2, altura / 2\n",
        "            janela.blit(texto_renderizado, rect_texto)\n",
        "            \n",
        "\n",
        "        elif pontos > erros:\n",
        "            pygame.mixer.music.load(f'{Audios}parabens.mp3')\n",
        "            pygame.mixer.music.play()\n",
        "            janela.fill(PRETO)\n",
        "            fonte = pygame.font.Font(None, 120)\n",
        "            texto_renderizado = fonte.render(\"YOU WIN\", True, BRANCO)\n",
        "            rect_texto = texto_renderizado.get_rect()\n",
        "            rect_texto.center = largura / 2, altura / 3\n",
        "            janela.blit(texto_renderizado, rect_texto)\n",
        "            \n",
        "            fonte = pygame.font.Font(None, 20)\n",
        "            texto_renderizado = fonte.render(f\"Acertou {pontos} navios ({porcentagem_navios}%), errou {erros} vezes ({porcentagem_agua}%) , e usou {tentativas} tentativas. Sequencia {maior_valor}\", True, BRANCO)\n",
        "            rect_texto = texto_renderizado.get_rect()\n",
        "            rect_texto.center = largura / 2, altura / 2\n",
        "            janela.blit(texto_renderizado, rect_texto)\n",
        "\n",
        "        # Atualização da janela do game\n",
        "        pygame.display.flip()\n",
        "        pygame.time.wait(4000)\n",
        "\n",
        "        print(f\"Acertos {pontos} navios, errou {erros} vezes, e usou {tentativas} tentativas.\")\n",
        "        print(f\"Acertos {porcentagem_navios}% - Agua {porcentagem_agua}% - Maxima sequencia de acertos {maior_valor}\")\n",
        "        pygame.time.wait(3000)\n",
        "        pygame.quit()\n",
        "        sys.exit()"
      ]
    },
    {
      "cell_type": "markdown",
      "metadata": {
        "id": "ffEKF4Kx5eQu"
      },
      "source": [
        "#Manipulação de arquivos: Conteudo será trabalhado na aula do dia 08/05"
      ]
    },
    {
      "cell_type": "markdown",
      "metadata": {
        "id": "IrQvRhQM5oj6"
      },
      "source": [
        "UUtilize o arquivo ‘compras.csv’ como base para resolver os seguintes exercícios.  disponivel em: https://drive.google.com/file/d/1cqqr7kWuBYYJxJ8W_-KHmcZHs6sfV_is/view"
      ]
    },
    {
      "cell_type": "markdown",
      "metadata": {
        "id": "J8g6sYrl3Xjg"
      },
      "source": [
        "Utilize as seguintes faixas etárias nos exercícios em que for necessário.\n",
        "- Jovens, 18 a 25 anos\n",
        "- Adultos, 26 a 59 anos\n",
        "- Idosos, igual ou maior que 60 anos\n"
      ]
    },
    {
      "cell_type": "markdown",
      "metadata": {
        "id": "apGpARF-3nW9"
      },
      "source": [
        "Procure quem foi a pessoa que mais gastou?"
      ]
    },
    {
      "cell_type": "code",
      "execution_count": 1,
      "metadata": {
        "id": "EPX_3cU33XOh"
      },
      "outputs": [
        {
          "data": {
            "text/plain": [
              "nome         Gabriel\n",
              "sobrenome    Pereira\n",
              "idade             67\n",
              "sexo               M\n",
              "compra          9998\n",
              "ano             2016\n",
              "pagamento     debito\n",
              "Name: 3052, dtype: object"
            ]
          },
          "metadata": {},
          "output_type": "display_data"
        }
      ],
      "source": [
        "import pandas as pd\n",
        "\n",
        "tabela = pd.read_csv(\"compras.csv\")\n",
        "\n",
        "busca_maior = tabela[\"compra\"].idxmax()\n",
        "busca_cliente = tabela.loc[busca_maior]\n",
        "\n",
        "display(busca_cliente)\n",
        "\n"
      ]
    },
    {
      "cell_type": "markdown",
      "metadata": {
        "id": "3PBqAffp3o9I"
      },
      "source": [
        "Busque quais são os anos da base de dados?"
      ]
    },
    {
      "cell_type": "code",
      "execution_count": null,
      "metadata": {
        "id": "lqgX2B6x5fLc"
      },
      "outputs": [],
      "source": [
        "import pandas as pd\n",
        "\n",
        "tabela = pd.read_csv(\"compras.csv\")\n",
        "\n",
        "# Organiza a resposta em ordem crescente para printar\n",
        "display(tabela[\"ano\"].value_counts().sort_index())"
      ]
    },
    {
      "cell_type": "markdown",
      "metadata": {
        "id": "R2DKj08Z5tqJ"
      },
      "source": [
        "Qual a porcentagem de homens e mulheres na base de dados?"
      ]
    },
    {
      "cell_type": "code",
      "execution_count": null,
      "metadata": {
        "id": "3wZDjRn03xB0"
      },
      "outputs": [],
      "source": [
        "import pandas as pd\n",
        "\n",
        "tabela = pd.read_csv(\"compras.csv\")\n",
        "\n",
        "display(tabela[\"sexo\"].value_counts(normalize= True))\n"
      ]
    },
    {
      "cell_type": "markdown",
      "metadata": {
        "id": "Nou_jojr3ztM"
      },
      "source": [
        "Qual foi o gasto por ano?"
      ]
    },
    {
      "cell_type": "code",
      "execution_count": null,
      "metadata": {
        "id": "hjBuBCDb30YI"
      },
      "outputs": [],
      "source": [
        "import pandas as pd\n",
        "\n",
        "tabela = pd.read_csv(\"compras.csv\")\n",
        "\n",
        "#display(tabela)\n",
        "\n",
        "# cria uma coluna relacionando as duas colunas ano e gasto\n",
        "\n",
        "ano_compra = tabela.groupby('ano')['compra'].sum().reset_index() \n",
        "\n",
        "ano_compra.columns = ['Ano', 'Total de Compras']\n",
        "\n",
        "display(ano_compra)\n",
        "\n"
      ]
    },
    {
      "cell_type": "markdown",
      "metadata": {
        "id": "vgN3teMQ32pg"
      },
      "source": [
        "Qual foi o ano com maior gasto?"
      ]
    },
    {
      "cell_type": "code",
      "execution_count": null,
      "metadata": {
        "id": "JmN_ZHBV35ss"
      },
      "outputs": [],
      "source": [
        "import pandas as pd\n",
        "\n",
        "tabela = pd.read_csv(\"compras.csv\")\n",
        "\n",
        "compras_por_ano = tabela.groupby('ano')['compra'].sum().reset_index()\n",
        "\n",
        "compras_por_ano.columns = ['Ano', 'Total de Compras']\n",
        "\n",
        "# Encontra o ano com o maior valor em compras\n",
        "ano_maior_valor_em_compras = compras_por_ano.loc[compras_por_ano['Total de Compras'].idxmax()]\n",
        "\n",
        "print(\"O ano com o maior volume de compras foi:\", ano_maior_valor_em_compras['Ano'], \"com um total de compras de:\", ano_maior_valor_em_compras['Total de Compras'])\n"
      ]
    },
    {
      "cell_type": "markdown",
      "metadata": {
        "id": "V_y9EX0p34-E"
      },
      "source": [
        "Utilizando as faixas etárias, diga quantas pessoas há em cada faixa?"
      ]
    },
    {
      "cell_type": "code",
      "execution_count": 86,
      "metadata": {
        "id": "ukkjPSE738r8"
      },
      "outputs": [
        {
          "name": "stdout",
          "output_type": "stream",
          "text": [
            "faixa_etaria\n",
            "26-59 anos    3276\n",
            "60+ anos      1088\n",
            "18-25 anos     636\n",
            "Name: count, dtype: int64\n"
          ]
        }
      ],
      "source": [
        "import pandas as pd\n",
        "\n",
        "tabela = pd.read_csv(\"compras.csv\")\n",
        "\n",
        "faixas_etarias = [17, 25, 59, float('inf')]\n",
        "labels = ['18-25 anos', '26-59 anos', '60+ anos']\n",
        "\n",
        "#  idades e faixas etarias \n",
        "tabela['faixa_etaria'] = pd.cut(tabela['idade'], bins=faixas_etarias, labels = labels, right=False)\n",
        "\n",
        "# pessoas em cada faixa \n",
        "quantidade_etaria = tabela['faixa_etaria'].value_counts()\n",
        "\n",
        "# resp\n",
        "print(quantidade_etaria)\n"
      ]
    },
    {
      "cell_type": "markdown",
      "metadata": {
        "id": "_7qmp-1y36Ac"
      },
      "source": [
        "Qual é a faixa etária que mais gasta?"
      ]
    },
    {
      "cell_type": "code",
      "execution_count": 91,
      "metadata": {
        "id": "O0_Wt4I838V0"
      },
      "outputs": [
        {
          "name": "stdout",
          "output_type": "stream",
          "text": [
            "A faixa etária que mais gasta são os Adultos.\n"
          ]
        }
      ],
      "source": [
        "import pandas as pd\n",
        "\n",
        "tabela = pd.read_csv(\"compras.csv\")\n",
        "\n",
        "# Calcula o gasto total de cada faixa etária\n",
        "gasto_por_faixa = tabela.groupby('idade')['compra'].sum().reset_index()\n",
        "\n",
        "# Encontra a idade que mais gasta\n",
        "faixa_mais_gasta = gasto_por_faixa.loc[gasto_por_faixa['compra'].idxmax()]\n",
        "\n",
        "classifica = faixa_mais_gasta['idade']\n",
        "\n",
        "faixa = \"\"\n",
        "\n",
        "if  classifica <= 25:\n",
        "    faixa = \"Jovens\"\n",
        "elif classifica >= 26 and classifica <= 59:\n",
        "    faixa = \"Adultos\"    \n",
        "else:\n",
        "    faixa = \"Idosos\"\n",
        "\n",
        "print(f\"A faixa etária que mais gasta são os {faixa}.\")\n"
      ]
    },
    {
      "cell_type": "markdown",
      "metadata": {
        "id": "L_EUiizw3-jM"
      },
      "source": [
        "A opção de débito é mais utilizada entre homens ou mulheres?"
      ]
    },
    {
      "cell_type": "code",
      "execution_count": null,
      "metadata": {
        "id": "dIKB7PXj3_DE"
      },
      "outputs": [],
      "source": [
        "import pandas as pd\n",
        "\n",
        "tabela = pd.read_csv(\"compras.csv\")\n",
        "\n",
        "h_ou_m= tabela.groupby(['sexo', 'pagamento']).size().unstack(fill_value=0)\n",
        "\n",
        "# Comparar o número de transações por débito para homens e mulheres\n",
        "total_debito_h = h_ou_m.loc['M', 'debito']\n",
        "total_debito_m = h_ou_m.loc['F', 'debito']\n",
        "\n",
        "# Exibir o resultado\n",
        "if total_debito_h > total_debito_m:\n",
        "    print(\"Débito é mais utilizada por homens.\")\n",
        "elif total_debito_h < total_debito_m:\n",
        "    print(\"Débito é mais utilizada por mulheres.\")\n",
        "else:\n",
        "    print(\"Débito é igualmente utilizada entre homens e mulheres.\")\n"
      ]
    },
    {
      "cell_type": "markdown",
      "metadata": {
        "id": "jOMpl3Th4Bkm"
      },
      "source": [
        "Qual o sobrenome que mais aparece na base de dados?"
      ]
    },
    {
      "cell_type": "code",
      "execution_count": null,
      "metadata": {
        "id": "LDFe_62s4B_Q"
      },
      "outputs": [],
      "source": [
        "import pandas as pd\n",
        "\n",
        "tabela = pd.read_csv(\"compras.csv\")\n",
        "\n",
        "sobrenome = tabela['sobrenome'].value_counts()\n",
        "\n",
        "sobrenome_que_mais_aparece = sobrenome.idxmax()\n",
        "\n",
        "print(f\"O sobrenome que mais aparece no banco de dados é {sobrenome_que_mais_aparece}\")"
      ]
    },
    {
      "cell_type": "markdown",
      "metadata": {
        "id": "Q7VS9K_Q4ECM"
      },
      "source": [
        "Qual foi o ano em que os homens mais usaram o crédito?"
      ]
    },
    {
      "cell_type": "code",
      "execution_count": null,
      "metadata": {
        "id": "5H60b3n64Ee0"
      },
      "outputs": [],
      "source": [
        "import pandas as pd\n",
        "\n",
        "tabela = pd.read_csv(\"compras.csv\")\n",
        "\n",
        "homens_credito = tabela[(tabela['sexo'] == 'M') & (tabela['pagamento'] == 'credito')]\n",
        "\n",
        "# Agrupa as compras por ano para contar o numero de compras em cada ano\n",
        "transacoes_por_ano = homens_credito.groupby('ano').size()\n",
        "\n",
        "ano_mais_uso_credito = transacoes_por_ano.idxmax()\n",
        "\n",
        "print(f\"Homens usaram mais crédito no ano de {ano_mais_uso_credito}.\")\n"
      ]
    },
    {
      "cell_type": "markdown",
      "metadata": {
        "id": "ebnmp5KD4GPw"
      },
      "source": [
        "Qual opção de pagamento é mais utilizada em cada faixa etária?"
      ]
    },
    {
      "cell_type": "code",
      "execution_count": 109,
      "metadata": {
        "id": "NumXkC5p4H7s"
      },
      "outputs": [
        {
          "name": "stdout",
          "output_type": "stream",
          "text": [
            "Jovens: dinheiro\n",
            "Adultos: debito\n",
            "Idosos: debito\n"
          ]
        }
      ],
      "source": [
        "import pandas as pd\n",
        "\n",
        "tabela = pd.read_csv(\"compras.csv\")\n",
        "\n",
        "faixas_etarias = [18, 26, 60, tabela['idade'].max() + 1]\n",
        "labels = ['Jovens', 'Adultos', 'Idosos']\n",
        "\n",
        "tabela['faixa_etaria'] = pd.cut(tabela['idade'], bins=faixas_etarias, labels=labels, right=False)\n",
        "\n",
        "pagamento_por_faixa_etaria = tabela.groupby(['faixa_etaria', 'pagamento'], observed=True).size().unstack(fill_value=0)\n",
        "\n",
        "opcao_pagamento_por_faixa_etaria = pagamento_por_faixa_etaria.idxmax(axis=1)\n",
        "\n",
        "for faixa_etaria, opcao_pagamento in opcao_pagamento_por_faixa_etaria.items():\n",
        "    print(f\"{faixa_etaria}: {opcao_pagamento}\")\n"
      ]
    },
    {
      "cell_type": "markdown",
      "metadata": {
        "id": "jRKhI6Dv4IQJ"
      },
      "source": [
        "Qual o valor gasto em compras por jovens do ano de 2010 até 2015?"
      ]
    },
    {
      "cell_type": "code",
      "execution_count": 112,
      "metadata": {
        "id": "6SXstcF54Itk"
      },
      "outputs": [
        {
          "name": "stdout",
          "output_type": "stream",
          "text": [
            "Valor gasto por jovens de 2010 a 2015 foi 1265539\n"
          ]
        }
      ],
      "source": [
        "import pandas as pd\n",
        "\n",
        "tabela = pd.read_csv(\"compras.csv\")\n",
        "\n",
        "jovens = tabela[(tabela['idade'].between(18, 25)) & (tabela['ano'].between(2010, 2015))]\n",
        "\n",
        "jovens = jovens['compra'].sum() # o valor total gasto em compras\n",
        "\n",
        "print(f\"Valor gasto por jovens de 2010 a 2015 foi {jovens}\")"
      ]
    }
  ],
  "metadata": {
    "colab": {
      "provenance": []
    },
    "kernelspec": {
      "display_name": "Python 3",
      "name": "python3"
    },
    "language_info": {
      "codemirror_mode": {
        "name": "ipython",
        "version": 3
      },
      "file_extension": ".py",
      "mimetype": "text/x-python",
      "name": "python",
      "nbconvert_exporter": "python",
      "pygments_lexer": "ipython3",
      "version": "3.11.7"
    }
  },
  "nbformat": 4,
  "nbformat_minor": 0
}
